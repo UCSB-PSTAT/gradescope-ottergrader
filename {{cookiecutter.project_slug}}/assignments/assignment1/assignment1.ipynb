{
 "cells": [
  {
   "cell_type": "markdown",
   "metadata": {
    "nbgrader": {
     "grade": false,
     "grade_id": "title",
     "locked": true,
     "schema_version": 2,
     "solution": false
    }
   },
   "source": [
    "# Assignment 1: 2018 US House Elections\n",
    "**PSTAT 134 (Fall 2020)  \n",
    "Due Date: Friday, October 23, 11:59 PM**\n",
    "\n",
    "## Collaboration Policy\n",
    "\n",
    "Data science is a collaborative activity. While you may talk with others about\n",
    "the homework, we ask that you **write your solutions individually**. If you do\n",
    "discuss the assignments with others please **include their names** at the top\n",
    "of your notebook.\n",
    "\n",
    "**Collaborators**: *list collaborators here*"
   ]
  },
  {
   "cell_type": "markdown",
   "metadata": {},
   "source": [
    "```\n",
    "BEGIN ASSIGNMENT\n",
    "init_cell: true\n",
    "solutions_pdf: true\n",
    "template_pdf: true\n",
    "generate:\n",
    "    show_stdout: false\n",
    "    show_hidden: true\n",
    "    public_multiplier: 0.7\n",
    "files: [us_house_elections.csv]\n",
    "```"
   ]
  },
  {
   "cell_type": "markdown",
   "metadata": {},
   "source": [
    "## Direction and Goal\n",
    "\n",
    "![election_prediction](images/clinton-trump-rating.png)  \n",
    "[image credit](https://donsnotes.com/politics/images/clinton-trump-rating.png)\n",
    "\n",
    "We haven't talked about predictive models, but we can still think about what makes a \"good\" prediction.  In this assignment, we'll focus on evaluating the quality of election predictions made by the website [fivethirtyeight.com](https://www.fivethirtyeight.com).  As one prominent example, fivethirtyeight predicted that Clinton had a 70.9% chance to win the election.  Was their model wrong?\n",
    "\n",
    "To gain insight into questions like this, we'll focus on  [US House elections predictions from 2018](https://projects.fivethirtyeight.com/2018-midterm-election-forecast/house/).  Their predictions are based predominantly on polling data but include other sources as well (state of the economy, overall favoriability of politic parties, etc).  \n",
    "\n",
    "This homework is based loosely on [this article](https://projects.fivethirtyeight.com/checking-our-work/).  Please read the article before beginning the assignment."
   ]
  },
  {
   "cell_type": "markdown",
   "metadata": {},
   "source": [
    "## Question 1: Data Processing"
   ]
  },
  {
   "cell_type": "markdown",
   "metadata": {},
   "source": [
    "### Download Data\n",
    "Command line interface is a useful tool for programmatically interacting with general functions of your computer: e.g. manipulate/manage files, download from the internet, run scripts, etc.\n",
    "\n",
    "We will get acquainted with command line soon, but below uses command line interace commands to download the raw CSV file from [fivethirtyeight's github page for this data](https://github.com/fivethirtyeight/checking-our-work-data/blob/master/us_house_elections.csv). The `!` mark tells Jupyter notebook that the command following it is to be evaluated as a command line code."
   ]
  },
  {
   "cell_type": "code",
   "execution_count": 1,
   "metadata": {},
   "outputs": [
    {
     "name": "stdout",
     "output_type": "stream",
     "text": [
      "File ‘us_house_elections.csv’ already there; not retrieving.\n",
      "\n"
     ]
    }
   ],
   "source": [
    "!wget -nc https://raw.githubusercontent.com/fivethirtyeight/checking-our-work-data/master/us_house_elections.csv"
   ]
  },
  {
   "cell_type": "code",
   "execution_count": 2,
   "metadata": {},
   "outputs": [
    {
     "name": "stdout",
     "output_type": "stream",
     "text": [
      "total 23552\n",
      "-rw-r--r-- 1 jovyan  1000    69057 Jan 30 12:39 assignment1.ipynb\n",
      "drwxr-xr-x 3 jovyan users     4096 Jan 30 12:39 autograder/\n",
      "drwxr-xr-x 2 jovyan  1000     4096 Jan 30 12:34 images/\n",
      "-rw-r--r-- 1 jovyan  1000      995 Jan 30 12:34 save-data.ipynb\n",
      "drwxr-xr-x 3 jovyan users     4096 Jan 30 12:39 student/\n",
      "-rw-r--r-- 1 jovyan users 24027649 Jan 30 12:37 us_house_elections.csv\n"
     ]
    }
   ],
   "source": [
    "!ls -lF ## `ls` command verify that data is downloaded in our folder"
   ]
  },
  {
   "cell_type": "markdown",
   "metadata": {},
   "source": [
    "### Read Data into Python\n",
    "\n",
    "Numpy and Pandas is used to read in the csv file into python."
   ]
  },
  {
   "cell_type": "code",
   "execution_count": 3,
   "metadata": {},
   "outputs": [],
   "source": [
    "import pandas as pd\n",
    "import numpy as np\n",
    "election_data = pd.read_csv(\"us_house_elections.csv\", low_memory=False)"
   ]
  },
  {
   "cell_type": "markdown",
   "metadata": {},
   "source": [
    "Add column of zeros named `bin` to `election_data` (we will populate this column with meaningful data later) and `print` the first 10 rows of the `DataFrame` using `iloc`."
   ]
  },
  {
   "cell_type": "code",
   "execution_count": 4,
   "metadata": {},
   "outputs": [
    {
     "name": "stdout",
     "output_type": "stream",
     "text": [
      "   year office state  district special election_date forecast_date  \\\n",
      "0  2018  House    WY       1.0   False    2018-11-06    2018-11-06   \n",
      "1  2018  House    WY       1.0   False    2018-11-06    2018-11-06   \n",
      "2  2018  House    WY       1.0   False    2018-11-06    2018-11-06   \n",
      "3  2018  House    WY       1.0   False    2018-11-06    2018-11-06   \n",
      "4  2018  House    WY       1.0   False    2018-11-06    2018-11-06   \n",
      "5  2018  House    WY       1.0   False    2018-11-06    2018-11-06   \n",
      "6  2018  House    WV       3.0   False    2018-11-06    2018-11-06   \n",
      "7  2018  House    WV       3.0   False    2018-11-06    2018-11-06   \n",
      "8  2018  House    WV       3.0   False    2018-11-06    2018-11-06   \n",
      "9  2018  House    WV       3.0   False    2018-11-06    2018-11-06   \n",
      "\n",
      "  forecast_type party            candidate  projected_voteshare  \\\n",
      "0          lite     D          Greg Hunter             33.29836   \n",
      "1          lite     R           Liz Cheney             61.18835   \n",
      "2        deluxe     D          Greg Hunter             31.37998   \n",
      "3        deluxe     R           Liz Cheney             63.10673   \n",
      "4       classic     D          Greg Hunter             31.33293   \n",
      "5       classic     R           Liz Cheney             63.15379   \n",
      "6          lite     D  Richard Neece Ojeda             47.56779   \n",
      "7          lite     R  Carol Devine Miller             52.43221   \n",
      "8        deluxe     D  Richard Neece Ojeda             45.14111   \n",
      "9        deluxe     R  Carol Devine Miller             54.85889   \n",
      "\n",
      "   actual_voteshare  probwin  probwin_outcome  bin  \n",
      "0               NaN  0.00134                0    0  \n",
      "1               NaN  0.99866                1    0  \n",
      "2               NaN  0.00020                0    0  \n",
      "3               NaN  0.99980                1    0  \n",
      "4               NaN  0.00032                0    0  \n",
      "5               NaN  0.99968                1    0  \n",
      "6               NaN  0.27966                0    0  \n",
      "7               NaN  0.72034                1    0  \n",
      "8               NaN  0.09662                0    0  \n",
      "9               NaN  0.90338                1    0  \n"
     ]
    }
   ],
   "source": [
    "# BEGIN SOLUTION\n",
    "election_data['bin'] = 0\n",
    "print(election_data.iloc[:10,])\n",
    "# END SOLUTION"
   ]
  },
  {
   "cell_type": "markdown",
   "metadata": {},
   "source": [
    "Fivethirtyeight has three different prediction models: `lite`, `classic` and `deluxe`, which roughly incorporate an increasing number of assumptions.  In this assignment lets focus on evaluting the quality of the `classic` predictions.  You can read more about how the prediction models work [here](https://fivethirtyeight.com/methodology/how-fivethirtyeights-house-and-senate-models-work/).\n",
    "\n",
    "Fivethirtyeight continuously updated their predictions as more polling data became available for each of the races.  Let's focus on the predictions a few months before the election, on August 11th, and on the morning of election day, November 6th.  "
   ]
  },
  {
   "cell_type": "markdown",
   "metadata": {},
   "source": [
    "### Question 1a: Subset Data\n",
    "\n",
    "```\n",
    "BEGIN QUESTION\n",
    "name: q1a\n",
    "manual: false\n",
    "points: 5\n",
    "```\n",
    "\n",
    "Create a new pandas dataframe called `election_sub` by filtering to include only rows in which the `forecast_type` is \"classic\", and the date of the foreceast (`forecast_date`) is 8/11 or 11/6. \n",
    "\n",
    "Using `query` method seems well-suited.  Note you can make two (or more) calls to `query` by chaining calls to `query` like this: `election_data.query(...).query(...)`. Output of one query will be used as an input to the second query."
   ]
  },
  {
   "cell_type": "code",
   "execution_count": 5,
   "metadata": {},
   "outputs": [],
   "source": [
    "election_sub = election_data.query(\"forecast_type == 'classic'\").query('forecast_date ==\"2018-11-06\" | forecast_date == \"2018-08-11\"') # SOLUTION NO PROMPT\n",
    "\"\"\" # BEGIN PROMPT\n",
    "# Fill-in ...\n",
    "election_sub = election_data.query(\"forecast_type ...\").query('forecast_date ... | forecast_date ...')\n",
    "\"\"\"; # END PROMPT"
   ]
  },
  {
   "cell_type": "code",
   "execution_count": 6,
   "metadata": {},
   "outputs": [
    {
     "data": {
      "text/plain": [
       "True"
      ]
     },
     "execution_count": 6,
     "metadata": {},
     "output_type": "execute_result"
    }
   ],
   "source": [
    "## TEST ##\n",
    "\n",
    "all(election_sub['forecast_type'] == \"classic\")"
   ]
  },
  {
   "cell_type": "code",
   "execution_count": 7,
   "metadata": {},
   "outputs": [
    {
     "data": {
      "text/plain": [
       "True"
      ]
     },
     "execution_count": 7,
     "metadata": {},
     "output_type": "execute_result"
    }
   ],
   "source": [
    "## TEST ##\n",
    "\n",
    "all((x == \"2018-08-11\") | (x == \"2018-11-06\") for x in election_sub['forecast_date'])"
   ]
  },
  {
   "cell_type": "markdown",
   "metadata": {},
   "source": [
    "### Question 1b: Filtering Data\n",
    "\n",
    "In previous question, data was subset for two forcast dates: 2018-11-06 and 2018-08-11. Presumably, there _should be_ two rows (predictions) for each candidate; however, you will see that some candidates are missing one of the two predictions and not all name entries are valid.\n",
    "\n",
    "Using Pandas, remove any NaN names and any candidate that does not have two predictions.\n",
    "\n",
    "Finally, overwrite `election_sub` with the filtered data.\n",
    "\n",
    "There are different ways of doing this. I found the following functions useful:\n",
    "\n",
    "* [`pandas.DataFrame.isnull`](https://pandas.pydata.org/pandas-docs/stable/reference/api/pandas.DataFrame.isnull.html)\n",
    "* [`pandas.DataFrame.groupby`](https://pandas.pydata.org/pandas-docs/stable/reference/api/pandas.DataFrame.groupby.html)\n",
    "* [`pandas.core.groupby.DataFrameGroupBy.filter`](https://pandas.pydata.org/pandas-docs/stable/reference/api/pandas.core.groupby.DataFrameGroupBy.filter.html)\n",
    "* [`pandas.DataFrame.shape`](https://pandas.pydata.org/pandas-docs/stable/reference/api/pandas.DataFrame.shape.html)\n",
    "\n",
    "When using the documentation, make sure to use the correct version. You can check by running `pd.__version__`.\n",
    "\n",
    "```\n",
    "BEGIN QUESTION\n",
    "name: q1b\n",
    "manual: false\n",
    "points: 3\n",
    "```"
   ]
  },
  {
   "cell_type": "code",
   "execution_count": 8,
   "metadata": {},
   "outputs": [],
   "source": [
    "election_sub = election_sub[~election_sub['candidate'].isnull()].groupby('candidate').filter(lambda x: x.shape[0]==2) # SOLUTION NO PROMPT\n",
    "\"\"\" # BEGIN PROMPT\n",
    "# Fill-in ... and ###some task###\n",
    "election_sub = election_sub[  ###filter-out NaN names###  ].groupby(...).filter( ###lambda function checks length is two### )\n",
    "\"\"\"; # END PROMPT"
   ]
  },
  {
   "cell_type": "code",
   "execution_count": 9,
   "metadata": {},
   "outputs": [
    {
     "data": {
      "text/plain": [
       "(1920, 15)"
      ]
     },
     "execution_count": 9,
     "metadata": {},
     "output_type": "execute_result"
    }
   ],
   "source": [
    "## TEST ## \n",
    "\n",
    "election_sub.shape"
   ]
  },
  {
   "cell_type": "code",
   "execution_count": 10,
   "metadata": {},
   "outputs": [
    {
     "data": {
      "text/plain": [
       "False"
      ]
     },
     "execution_count": 10,
     "metadata": {},
     "output_type": "execute_result"
    }
   ],
   "source": [
    "## TEST ## \n",
    "\n",
    "election_sub.candidate.isnull().any()"
   ]
  },
  {
   "cell_type": "code",
   "execution_count": 11,
   "metadata": {},
   "outputs": [
    {
     "data": {
      "text/plain": [
       "True"
      ]
     },
     "execution_count": 11,
     "metadata": {},
     "output_type": "execute_result"
    }
   ],
   "source": [
    "## TEST ## \n",
    "\n",
    "(election_sub.groupby('candidate').size()==2).all()"
   ]
  },
  {
   "cell_type": "markdown",
   "metadata": {},
   "source": [
    "### Question 1c: Transform Data\n",
    "\n",
    "```\n",
    "BEGIN QUESTION\n",
    "name: q1c\n",
    "manual: false\n",
    "points: 3\n",
    "```\n",
    "\n",
    "We want to check whether events predicted by 538 to occur with probability _close to_ X% actually occured about X% of the time.  To do this, we have to define _close_.\n",
    "\n",
    "First, we'll define the `cut_points` as 20 equally spaced numbers between 0 and 1 using `np.linspace`.  Then we'll group the predicted probabilities into the `19` equally spaced bins determined by those cut points.  Define the bin for each observation using the `pd.cut` function on the `probwin` variable.  Then, assign the result to column `bin` of `election_sub`. Use `include_lowest=True` when calling `pd.cut`.\n",
    "\n",
    "_Note: Can you spot the strange behavior of `include_lowest=True`? [Despite the output, `pd.cut` seems to work correctly](https://github.com/pandas-dev/pandas/issues/23164#issuecomment-510700455)_"
   ]
  },
  {
   "cell_type": "code",
   "execution_count": 12,
   "metadata": {},
   "outputs": [],
   "source": [
    "cut_points = np.linspace(0, 1, 20) # SOLUTION\n",
    "election_sub['bin'] = pd.cut(election_sub['probwin'], cut_points, include_lowest=True) # SOLUTION"
   ]
  },
  {
   "cell_type": "code",
   "execution_count": 13,
   "metadata": {},
   "outputs": [
    {
     "data": {
      "text/plain": [
       "19"
      ]
     },
     "execution_count": 13,
     "metadata": {},
     "output_type": "execute_result"
    }
   ],
   "source": [
    "## TEST ##\n",
    "\n",
    "len(election_sub['bin'].unique())"
   ]
  },
  {
   "cell_type": "code",
   "execution_count": 14,
   "metadata": {},
   "outputs": [
    {
     "data": {
      "text/plain": [
       "(-0.001, 0.0526]    843\n",
       "(0.947, 1.0]        655\n",
       "(0.842, 0.895]       42\n",
       "(0.105, 0.158]       42\n",
       "(0.0526, 0.105]      32\n",
       "(0.895, 0.947]       32\n",
       "(0.737, 0.789]       30\n",
       "(0.211, 0.263]       30\n",
       "(0.789, 0.842]       28\n",
       "(0.158, 0.211]       28\n",
       "(0.579, 0.632]       22\n",
       "(0.368, 0.421]       22\n",
       "(0.684, 0.737]       17\n",
       "(0.632, 0.684]       17\n",
       "(0.316, 0.368]       17\n",
       "(0.263, 0.316]       17\n",
       "(0.474, 0.526]       16\n",
       "(0.526, 0.579]       15\n",
       "(0.421, 0.474]       15\n",
       "Name: bin, dtype: int64"
      ]
     },
     "execution_count": 14,
     "metadata": {},
     "output_type": "execute_result"
    }
   ],
   "source": [
    "## TEST ## \n",
    "\n",
    "election_sub['bin'].value_counts()"
   ]
  },
  {
   "cell_type": "markdown",
   "metadata": {},
   "source": [
    "## Question 2: Looking for Insights"
   ]
  },
  {
   "cell_type": "markdown",
   "metadata": {},
   "source": [
    "### Question 2a: Calculate Change in Support\n",
    "\n",
    "Let's see if we can find the candidates whose standings change the most between August 11 and November 6: one with largest improvement and another with largest decrease in win-probability. First, use the `agg` function calculate the difference.\n",
    "\n",
    "Following functions have been useful for me:\n",
    "\n",
    "* [`numpy.diff`](https://docs.scipy.org/doc/numpy/reference/generated/numpy.diff.html)\n",
    "* [`pandas.DataFrame.sort_values`](https://pandas.pydata.org/pandas-docs/stable/reference/api/pandas.DataFrame.sort_values.html)\n",
    "* [`pandas.DataFrame.groupby`](https://pandas.pydata.org/pandas-docs/stable/reference/api/pandas.DataFrame.groupby.html)\n",
    "* [`pandas.DataFrame.agg`](https://pandas.pydata.org/pandas-docs/stable/reference/api/pandas.DataFrame.agg.html): especially, [different functions to columns](https://pandas.pydata.org/pandas-docs/stable/user_guide/groupby.html#applying-different-functions-to-dataframe-columns) \n",
    "\n",
    "Save the resulting DataFrame from `agg()` to a variable, `probwin_change`. \n",
    "\n",
    "```\n",
    "BEGIN QUESTION\n",
    "name: q2a\n",
    "manual: false\n",
    "points: 5\n",
    "```"
   ]
  },
  {
   "cell_type": "code",
   "execution_count": 15,
   "metadata": {},
   "outputs": [],
   "source": [
    "probwin_change = election_sub.sort_values(by=['forecast_date','candidate']).groupby('candidate').agg({'probwin':np.diff}) # SOLUTION\n",
    "\"\"\" # BEGIN PROMPT\n",
    "# Fill-in ...\n",
    "probwin_change = election_sub.sort_values(by=[...]).groupby(...).agg({... : ...})\n",
    "\"\"\"; # END PROMPT"
   ]
  },
  {
   "cell_type": "code",
   "execution_count": 16,
   "metadata": {},
   "outputs": [
    {
     "data": {
      "text/plain": [
       "(960, 1)"
      ]
     },
     "execution_count": 16,
     "metadata": {},
     "output_type": "execute_result"
    }
   ],
   "source": [
    "## TEST ##\n",
    "\n",
    "probwin_change.shape"
   ]
  },
  {
   "cell_type": "code",
   "execution_count": 17,
   "metadata": {},
   "outputs": [
    {
     "data": {
      "text/plain": [
       "Index(['probwin'], dtype='object')"
      ]
     },
     "execution_count": 17,
     "metadata": {},
     "output_type": "execute_result"
    }
   ],
   "source": [
    "## TEST ##\n",
    "\n",
    "probwin_change.columns"
   ]
  },
  {
   "cell_type": "code",
   "execution_count": 18,
   "metadata": {},
   "outputs": [
    {
     "data": {
      "text/plain": [
       "Index(['A. Donald McEachin', 'Aaron Andrus', 'Aaron Swisher',\n",
       "       'Abby Finkenauer', 'Abigail Spanberger', 'Adam B. Schiff',\n",
       "       'Adam Kinzinger', 'Adam Smith', 'Adrian Smith', 'Adriano Espaillat',\n",
       "       ...\n",
       "       'William Lacy Clay', 'William Tanoos', 'William Timmons',\n",
       "       'Willie Billups', 'Xochitl Torres Small', 'Young Kim', 'Yvette Clarke',\n",
       "       'Yvette Herrell', 'Yvonne Hayes Hinson', 'Zoe Lofgren'],\n",
       "      dtype='object', name='candidate', length=960)"
      ]
     },
     "execution_count": 18,
     "metadata": {},
     "output_type": "execute_result"
    }
   ],
   "source": [
    "## TEST ##\n",
    "\n",
    "probwin_change.index.sort_values()"
   ]
  },
  {
   "cell_type": "code",
   "execution_count": 19,
   "metadata": {},
   "outputs": [
    {
     "data": {
      "text/plain": [
       "26.7"
      ]
     },
     "execution_count": 19,
     "metadata": {},
     "output_type": "execute_result"
    }
   ],
   "source": [
    "## TEST ##\n",
    "\n",
    "np.round(np.abs(probwin_change.probwin).sum(), 1)"
   ]
  },
  {
   "cell_type": "markdown",
   "metadata": {},
   "source": [
    "### Question 2b: Looking for Largest Changes\n",
    "\n",
    "Now, save the name of the candidates to string variables `rising_candidate` (largest increase) and `falling_candidate` (largest decrease).\n",
    "\n",
    "* [`pandas.DataFrmae.idxmax`](https://pandas.pydata.org/pandas-docs/stable/reference/api/pandas.DataFrame.idxmax.html)\n",
    "* [`pandas.DataFrmae.idxmin`](https://pandas.pydata.org/pandas-docs/stable/reference/api/pandas.DataFrame.idxmin.html)\n",
    "\n",
    "```\n",
    "BEGIN QUESTION\n",
    "name: q2b\n",
    "manual: false\n",
    "points: 3\n",
    "```"
   ]
  },
  {
   "cell_type": "code",
   "execution_count": 20,
   "metadata": {},
   "outputs": [],
   "source": [
    "rising_candidate = probwin_change.idxmax().values[0]  # SOLUTION\n",
    "falling_candidate = probwin_change.idxmin().values[0] # SOLUTION"
   ]
  },
  {
   "cell_type": "code",
   "execution_count": 21,
   "metadata": {},
   "outputs": [],
   "source": [
    "## TEST ##\n",
    "\n",
    "assert isinstance(rising_candidate, str) and isinstance(falling_candidate, str) "
   ]
  },
  {
   "cell_type": "code",
   "execution_count": 22,
   "metadata": {},
   "outputs": [
    {
     "data": {
      "text/plain": [
       "'Sharice Davids'"
      ]
     },
     "execution_count": 22,
     "metadata": {},
     "output_type": "execute_result"
    }
   ],
   "source": [
    "## HIDDEN TEST ##\n",
    "\n",
    "rising_candidate"
   ]
  },
  {
   "cell_type": "code",
   "execution_count": 23,
   "metadata": {},
   "outputs": [
    {
     "data": {
      "text/plain": [
       "'Kevin Yoder'"
      ]
     },
     "execution_count": 23,
     "metadata": {},
     "output_type": "execute_result"
    }
   ],
   "source": [
    "## HIDDEN TEST ##\n",
    "\n",
    "falling_candidate"
   ]
  },
  {
   "cell_type": "markdown",
   "metadata": {},
   "source": [
    "### Question 2c: Verify Outcome\n",
    "\n",
    "Did the candidate win or lose the election? Verify with election outcome.\n",
    "```\n",
    "BEGIN QUESTION\n",
    "name: q2c\n",
    "manual: true\n",
    "points: 5\n",
    "```"
   ]
  },
  {
   "cell_type": "markdown",
   "metadata": {},
   "source": [
    "**SOLUTION**"
   ]
  },
  {
   "cell_type": "markdown",
   "metadata": {},
   "source": [
    "## Prediction vs Actual Outcomes"
   ]
  },
  {
   "cell_type": "markdown",
   "metadata": {},
   "source": [
    "### Question 3a: Prediction Histogram\n",
    "\n",
    "Make a histogram showing the predicted win probabilities _on the morning of the election._  Again, restrict yourself to only the `classic` predictions.\n",
    "\n",
    "```\n",
    "BEGIN QUESTION\n",
    "name: q3a\n",
    "manual: true\n",
    "points: 5\n",
    "```"
   ]
  },
  {
   "cell_type": "code",
   "execution_count": 24,
   "metadata": {},
   "outputs": [
    {
     "data": {
      "image/png": "[encoded data removed]",
      "text/plain": [
       "<Figure size 432x288 with 1 Axes>"
      ]
     },
     "metadata": {
      "needs_background": "light"
     },
     "output_type": "display_data"
    }
   ],
   "source": [
    "# BEGIN SOLUTION\n",
    "election_sub.query(\"forecast_date=='2018-11-06'\").hist('probwin');\n",
    "# END SOLUTION"
   ]
  },
  {
   "cell_type": "markdown",
   "metadata": {},
   "source": [
    "### Question 3b: Prediction difficulty \n",
    "\n",
    "Are most house elections easy to forecast or hard to forecast? State your reasoning.\n",
    "\n",
    "```\n",
    "BEGIN QUESTION\n",
    "name: q3b\n",
    "manual: true\n",
    "points: 5\n",
    "```"
   ]
  },
  {
   "cell_type": "markdown",
   "metadata": {},
   "source": [
    "**SOLUTION**"
   ]
  },
  {
   "cell_type": "markdown",
   "metadata": {},
   "source": [
    "### Question 4a: Compute Actual Outcomes\n",
    "\n",
    "Now we've grouped the observations into a discrete set of bins according to the predicted probability, `probwin`.  Within each bin, we now want to compute the actual fraction of times the candidates won.\n",
    "\n",
    "If 538 did a good job, it will be close to the predited probabilities.  You'll need to use the `groupby` function to compute the mean of `probwin_outcome` (1 is a win and 0 is a loss) within each bin. Once again you can use `agg` method here.  \n",
    "\n",
    "Save the fraction of actual wins in each bin in a list called `fraction_outcome`.\n",
    "\n",
    "```\n",
    "BEGIN QUESTION\n",
    "name: q4a\n",
    "manual: false\n",
    "points: 5\n",
    "```"
   ]
  },
  {
   "cell_type": "code",
   "execution_count": 25,
   "metadata": {},
   "outputs": [],
   "source": [
    "fraction_outcome = election_sub.groupby('bin').agg({'probwin_outcome':np.mean}) #SOLUTION"
   ]
  },
  {
   "cell_type": "code",
   "execution_count": 26,
   "metadata": {},
   "outputs": [
    {
     "name": "stdout",
     "output_type": "stream",
     "text": [
      "<class 'pandas.core.frame.DataFrame'>\n"
     ]
    }
   ],
   "source": [
    "## TEST ##\n",
    "\n",
    "print(type(fraction_outcome))"
   ]
  },
  {
   "cell_type": "code",
   "execution_count": 27,
   "metadata": {},
   "outputs": [
    {
     "data": {
      "text/plain": [
       "19"
      ]
     },
     "execution_count": 27,
     "metadata": {},
     "output_type": "execute_result"
    }
   ],
   "source": [
    "## TEST ##\n",
    "\n",
    "len(fraction_outcome)"
   ]
  },
  {
   "cell_type": "code",
   "execution_count": 28,
   "metadata": {},
   "outputs": [
    {
     "data": {
      "text/plain": [
       "probwin_outcome    True\n",
       "dtype: bool"
      ]
     },
     "execution_count": 28,
     "metadata": {},
     "output_type": "execute_result"
    }
   ],
   "source": [
    "## TEST ##\n",
    "\n",
    "fraction_outcome.iloc[0] < fraction_outcome.iloc[-1]"
   ]
  },
  {
   "cell_type": "code",
   "execution_count": 29,
   "metadata": {},
   "outputs": [
    {
     "data": {
      "text/plain": [
       "probwin_outcome    9.5\n",
       "dtype: float64"
      ]
     },
     "execution_count": 29,
     "metadata": {},
     "output_type": "execute_result"
    }
   ],
   "source": [
    "## HIDDEN TEST ##\n",
    "\n",
    "np.round(fraction_outcome.sum(), 3)"
   ]
  },
  {
   "cell_type": "markdown",
   "metadata": {},
   "source": [
    "### Question 4b: Preparing to Present Results\n",
    "\n",
    "```\n",
    "BEGIN QUESTION\n",
    "name: q4b\n",
    "manual: false\n",
    "points: 5\n",
    "```\n",
    "\n",
    "For this problem we'll make a plot of the predicted probabilities and actual fraction of wins in each bin.  We've already computed the actual fraction of wins; all that remains is to plot it against the predicted value assocaited with each bin.\n",
    "\n",
    "For the predicted value in each bin, using the midpoint of the bin would make sense.  Compute the midpoints of each bin from `cut_points`."
   ]
  },
  {
   "cell_type": "code",
   "execution_count": 30,
   "metadata": {},
   "outputs": [],
   "source": [
    "midpoints = (cut_points[1:] + cut_points[:-1]) / 2 # SOLUTION"
   ]
  },
  {
   "cell_type": "code",
   "execution_count": 31,
   "metadata": {},
   "outputs": [
    {
     "data": {
      "text/plain": [
       "True"
      ]
     },
     "execution_count": 31,
     "metadata": {},
     "output_type": "execute_result"
    }
   ],
   "source": [
    "## TEST ##\n",
    "\n",
    "all(np.array(midpoints) >= 0) & all(np.array(midpoints) <= 1)"
   ]
  },
  {
   "cell_type": "code",
   "execution_count": 32,
   "metadata": {},
   "outputs": [
    {
     "data": {
      "text/plain": [
       "array([0.0263, 0.0789, 0.1316, 0.1842, 0.2368, 0.2895, 0.3421, 0.3947,\n",
       "       0.4474, 0.5   , 0.5526, 0.6053, 0.6579, 0.7105, 0.7632, 0.8158,\n",
       "       0.8684, 0.9211, 0.9737])"
      ]
     },
     "execution_count": 32,
     "metadata": {},
     "output_type": "execute_result"
    }
   ],
   "source": [
    "## TEST ##\n",
    "\n",
    "np.round(midpoints, 4)"
   ]
  },
  {
   "cell_type": "markdown",
   "metadata": {},
   "source": [
    "### Question 4c: Visualize Results\n",
    "\n",
    "```\n",
    "BEGIN QUESTION\n",
    "name: q4c\n",
    "manual: true \n",
    "points: 5\n",
    "```\n",
    "\n",
    "Now make a scatterplot using `midpoints` as the x variable and `fraction_outcome` as the y variable.  Draw a dashed line from `[0,0]` to `[1,1]` to mark the line y=x.  "
   ]
  },
  {
   "cell_type": "code",
   "execution_count": 33,
   "metadata": {},
   "outputs": [
    {
     "data": {
      "image/png": "[encoded data removed]",
      "text/plain": [
       "<Figure size 432x288 with 1 Axes>"
      ]
     },
     "metadata": {
      "needs_background": "light"
     },
     "output_type": "display_data"
    }
   ],
   "source": [
    "# magic for showing figures inline\n",
    "%matplotlib inline \n",
    "import matplotlib.pyplot as plt\n",
    "\n",
    "# BEGIN SOLUTION\n",
    "plt.plot(midpoints, fraction_outcome, 'p')\n",
    "plt.plot([0, 1], [0, 1], '--');\n",
    "# END SOLUTION"
   ]
  },
  {
   "cell_type": "markdown",
   "metadata": {},
   "source": [
    "## Quantifying Uncertainty"
   ]
  },
  {
   "cell_type": "markdown",
   "metadata": {},
   "source": [
    "### Question 5a: Model-based Error Estimation\n",
    "\n",
    "If you did things correctly, it should look like fivethirtyeight has done \"pretty\" well with their forecasts: the actual fraction of wins tracks closely with the predicted number.\n",
    "\n",
    "But how do we decide what's \"good enough\"? Consider this example: I correctly predict that a coin is fair (e.g. that it has a 50% chance of heads, 50% chance of tails).  But if I flip it 100 times, I can be pretty sure it won't come up heads exactly 50 times.  The fact that heads didn't come up exactly 50 times doesn't make my prediction incorrect.\n",
    "\n",
    "To assess how reasonable the predictions are, I need to quantify the uncertainty in my estimate.  It's reasonable to assume that within each bin, $k$, the observed number of wins, $Y_k \\sim \\text{Binomial}\\,(n_k, p_k)$, where $n_k$ is the number of elections and $p_k$ is the predicted win probability in bin $k$.\n",
    "\n",
    "Classical results tell us that the obseved fraction of wins in bin $k$, $\\hat p = \\frac{Y_k}{n_k}$ has variance Var$\\left(\\hat p_k\\right) = \\frac{p_k (1-p_k)}{n_k} \\approx \\frac{\\hat p_k(1- \\hat p_k)}{n_k}$.  The standard deviation of the Binomial proportion then is $\\hat \\sigma_k \\approx \\sqrt{\\frac{\\hat p_k(1- \\hat p_k)}{n_k}}$.  \n",
    "\n",
    "If we use the [normal approximation to generate a confidence interval](https://en.wikipedia.org/wiki/Binomial_proportion_confidence_interval#Normal_approximation_interval), then the 95% interval has the form $\\hat p_k \\pm 1.96 \\hat \\sigma_k$.\n",
    "\n",
    "Create a new \"aggregated\" dataframe named `election_agg`.  Take `election_sub`, group by `bin` and compute both the average of the `probwin_outcome` (`mean`) and the number of observations in each bin (`count`) using the `agg` function.  Call this new data frame, `election_agg`.\n",
    "\n",
    "THen, use the `mean` and `count` columns of `election_agg` to create a new column of `election_agg` titled `err`, which stores $1.96 \\times \\hat \\sigma_k$ in each bin $k$.\n",
    "\n",
    "```\n",
    "BEGIN QUESTION\n",
    "name: q5a\n",
    "manual: false\n",
    "points: 3\n",
    "```"
   ]
  },
  {
   "cell_type": "code",
   "execution_count": 34,
   "metadata": {},
   "outputs": [],
   "source": [
    "election_agg = election_sub.groupby('bin')['probwin_outcome'].agg(['mean', 'count']) # SOLUTION\n",
    "election_agg['err'] = 1.96 * np.sqrt(election_agg['mean'] * (1 - election_agg['mean']) / election_agg['count']) # SOLUTION"
   ]
  },
  {
   "cell_type": "code",
   "execution_count": 35,
   "metadata": {},
   "outputs": [
    {
     "data": {
      "text/plain": [
       "(19, 3)"
      ]
     },
     "execution_count": 35,
     "metadata": {},
     "output_type": "execute_result"
    }
   ],
   "source": [
    "## TEST ##\n",
    "\n",
    "election_agg.shape"
   ]
  },
  {
   "cell_type": "code",
   "execution_count": 36,
   "metadata": {},
   "outputs": [
    {
     "name": "stdout",
     "output_type": "stream",
     "text": [
      "bin\n",
      "(-0.001, 0.0526]    843\n",
      "(0.0526, 0.105]      32\n",
      "(0.105, 0.158]       42\n",
      "(0.158, 0.211]       28\n",
      "(0.211, 0.263]       30\n",
      "(0.263, 0.316]       17\n",
      "(0.316, 0.368]       17\n",
      "(0.368, 0.421]       22\n",
      "(0.421, 0.474]       15\n",
      "(0.474, 0.526]       16\n",
      "(0.526, 0.579]       15\n",
      "(0.579, 0.632]       22\n",
      "(0.632, 0.684]       17\n",
      "(0.684, 0.737]       17\n",
      "(0.737, 0.789]       30\n",
      "(0.789, 0.842]       28\n",
      "(0.842, 0.895]       42\n",
      "(0.895, 0.947]       32\n",
      "(0.947, 1.0]        655\n",
      "Name: count, dtype: int64 4\n"
     ]
    }
   ],
   "source": [
    "## TEST ##\n",
    "\n",
    "print(election_agg['count'], 4)"
   ]
  },
  {
   "cell_type": "code",
   "execution_count": 37,
   "metadata": {},
   "outputs": [
    {
     "name": "stdout",
     "output_type": "stream",
     "text": [
      "bin\n",
      "(-0.001, 0.0526]    0.002\n",
      "(0.0526, 0.105]     0.084\n",
      "(0.105, 0.158]      0.046\n",
      "(0.158, 0.211]      0.130\n",
      "(0.211, 0.263]      0.143\n",
      "(0.263, 0.316]      0.112\n",
      "(0.316, 0.368]      0.202\n",
      "(0.368, 0.421]      0.186\n",
      "(0.421, 0.474]      0.252\n",
      "(0.474, 0.526]      0.245\n",
      "(0.526, 0.579]      0.252\n",
      "(0.579, 0.632]      0.186\n",
      "(0.632, 0.684]      0.202\n",
      "(0.684, 0.737]      0.112\n",
      "(0.737, 0.789]      0.143\n",
      "(0.789, 0.842]      0.130\n",
      "(0.842, 0.895]      0.046\n",
      "(0.895, 0.947]      0.084\n",
      "(0.947, 1.0]        0.003\n",
      "Name: err, dtype: float64\n"
     ]
    }
   ],
   "source": [
    "## TEST ##\n",
    "\n",
    "print(np.round(election_agg['err'], 3))"
   ]
  },
  {
   "cell_type": "markdown",
   "metadata": {},
   "source": [
    "### Question 5b: Visualize Error Bars 1\n",
    "\n",
    "Use `plt.errorbar` to create a new plot with error bars associated with the actual fraction of wins in each bin.  Again add a dashed y=x line.  Set the argument `fmt='.'` to create a scatterplot with errorbars.\n",
    "\n",
    "```\n",
    "BEGIN QUESTION\n",
    "name: q5b\n",
    "manual: true\n",
    "points: 5\n",
    "```"
   ]
  },
  {
   "cell_type": "code",
   "execution_count": 38,
   "metadata": {},
   "outputs": [
    {
     "data": {
      "image/png": "[encoded data removed]",
      "text/plain": [
       "<Figure size 432x288 with 1 Axes>"
      ]
     },
     "metadata": {
      "needs_background": "light"
     },
     "output_type": "display_data"
    }
   ],
   "source": [
    "# Plotting code below\n",
    "\n",
    "# BEGIN SOLUTION\n",
    "plt.errorbar(midpoints, election_agg['mean'].values, yerr=election_agg['err'].values, fmt='.')\n",
    "plt.plot([0, 1], [0, 1], '--');\n",
    "# END SOLUTION"
   ]
  },
  {
   "cell_type": "markdown",
   "metadata": {},
   "source": [
    "### Question 5c: Computing Coverage\n",
    "\n",
    "If our intervals were true 95% confidence intervals, then we would expect about 95% of them to cover the midpoint of the bin (i.e. overlap with the y=x line).\n",
    "\n",
    "What fraction of the 95% confidence intervals cover the bin midpoint?  Create a variable, `upper`, to be the `mean` + `err` and another, `lower`, to be `mean` - `err` (both `upper` and `lower` should pandas series). Next, compute `frac_covering` as the fraction of midpoints between `lower` and `upper`. \n",
    "\n",
    "```\n",
    "BEGIN QUESTION\n",
    "name: q5c\n",
    "manual: false\n",
    "points: 5\n",
    "```"
   ]
  },
  {
   "cell_type": "code",
   "execution_count": 39,
   "metadata": {},
   "outputs": [],
   "source": [
    "upper = election_agg['mean'] + election_agg['err'] # SOLUTION\n",
    "lower = election_agg['mean'] - election_agg['err'] # SOLUTION\n",
    "\n",
    "frac_covering = ((upper > midpoints) & (lower < midpoints)).mean() # SOLUTION"
   ]
  },
  {
   "cell_type": "code",
   "execution_count": 40,
   "metadata": {},
   "outputs": [
    {
     "data": {
      "text/plain": [
       "19"
      ]
     },
     "execution_count": 40,
     "metadata": {},
     "output_type": "execute_result"
    }
   ],
   "source": [
    "## TEST ##\n",
    "len(upper)"
   ]
  },
  {
   "cell_type": "code",
   "execution_count": 41,
   "metadata": {},
   "outputs": [
    {
     "data": {
      "text/plain": [
       "19"
      ]
     },
     "execution_count": 41,
     "metadata": {},
     "output_type": "execute_result"
    }
   ],
   "source": [
    "## TEST ##\n",
    "len(lower)"
   ]
  },
  {
   "cell_type": "code",
   "execution_count": 42,
   "metadata": {},
   "outputs": [
    {
     "data": {
      "text/plain": [
       "True"
      ]
     },
     "execution_count": 42,
     "metadata": {},
     "output_type": "execute_result"
    }
   ],
   "source": [
    "## TEST ##\n",
    "all(lower < upper)"
   ]
  },
  {
   "cell_type": "code",
   "execution_count": 43,
   "metadata": {},
   "outputs": [
    {
     "data": {
      "text/plain": [
       "True"
      ]
     },
     "execution_count": 43,
     "metadata": {},
     "output_type": "execute_result"
    }
   ],
   "source": [
    "## TEST ##\n",
    "(frac_covering > 0.5) & (frac_covering < 1)"
   ]
  },
  {
   "cell_type": "code",
   "execution_count": 44,
   "metadata": {},
   "outputs": [
    {
     "data": {
      "text/plain": [
       "0.684"
      ]
     },
     "execution_count": 44,
     "metadata": {},
     "output_type": "execute_result"
    }
   ],
   "source": [
    "## TEST ##\n",
    "np.round(frac_covering, 3)"
   ]
  },
  {
   "cell_type": "markdown",
   "metadata": {},
   "source": [
    "### Question 5d: Understanding Confidence Intervals\n",
    "\n",
    "Are the 95% confidence intervals generally larger or smaller for more confident predictions (e.g. the predictions closer to 0 or 1).  What are the factors that determine the length of the confidence intervals?\n",
    "\n",
    "```\n",
    "BEGIN QUESTION\n",
    "name: q5d\n",
    "manual: true\n",
    "points: 5\n",
    "```"
   ]
  },
  {
   "cell_type": "markdown",
   "metadata": {},
   "source": [
    "**SOLUTION**"
   ]
  },
  {
   "cell_type": "markdown",
   "metadata": {},
   "source": [
    "_Intentionally Blank_"
   ]
  }
 ],
 "metadata": {
  "kernelspec": {
   "display_name": "Python 3",
   "language": "python",
   "name": "python3"
  },
  "language_info": {
   "codemirror_mode": {
    "name": "ipython",
    "version": 3
   },
   "file_extension": ".py",
   "mimetype": "text/x-python",
   "name": "python",
   "nbconvert_exporter": "python",
   "pygments_lexer": "ipython3",
   "version": "3.7.3"
  }
 },
 "nbformat": 4,
 "nbformat_minor": 4
}
